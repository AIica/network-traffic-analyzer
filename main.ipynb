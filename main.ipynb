{
 "cells": [
  {
   "cell_type": "code",
   "execution_count": 2,
   "metadata": {},
   "outputs": [],
   "source": [
    "import pandas as ps\n",
    "import numpy as np\n",
    "from sklearn.ensemble import RandomForestClassifier\n",
    "from sklearn.preprocessing import StandardScaler, LabelEncoder\n",
    "from sklearn.metrics import classification_report"
   ]
  },
  {
   "cell_type": "code",
   "execution_count": 3,
   "metadata": {},
   "outputs": [
    {
     "name": "stdout",
     "output_type": "stream",
     "text": [
      "Количество записей каждого протокола:\n",
      "DNS                 6507\n",
      "HTTP                2626\n",
      "SSL                 768\n",
      "SSL_No_Cert         90\n",
      "Apple               25\n",
      "NTP                 17\n",
      "Quic                111\n",
      "BitTorrent          93\n",
      "Skype               283\n",
      "Unknown             22\n",
      "Unencryped_Jabber   1\n"
     ]
    }
   ],
   "source": [
    "data = ps.read_csv(\"flows.csv\")\n",
    "print(\"Количество записей каждого протокола:\")\n",
    "for proto in data[\"proto\"].unique():\n",
    "    print(\"{}{}\".format(proto.ljust(20), len(data[data[\"proto\"] == proto])))"
   ]
  },
  {
   "cell_type": "code",
   "execution_count": 4,
   "metadata": {},
   "outputs": [],
   "source": [
    "from tools.processing.model import Model\n",
    "from tools.processing.visualize import Visualize"
   ]
  },
  {
   "cell_type": "code",
   "execution_count": 8,
   "metadata": {},
   "outputs": [
    {
     "name": "stdout",
     "output_type": "stream",
     "text": [
      "Random value for memory: 4\n"
     ]
    }
   ],
   "source": [
    "random_elem = int(input(\"Random value for memory: \"))\n",
    "model = Model(data, RandomForestClassifier(20, \"entropy\", 8, random_state=random_elem), random_elem)"
   ]
  },
  {
   "cell_type": "code",
   "execution_count": 12,
   "metadata": {},
   "outputs": [
    {
     "name": "stdout",
     "output_type": "stream",
     "text": [
      "Cluster size: 3\n"
     ]
    }
   ],
   "source": [
    "cluster_size = int(input(\"Cluster size: \"))"
   ]
  },
  {
   "cell_type": "code",
   "execution_count": 13,
   "metadata": {},
   "outputs": [
    {
     "name": "stdout",
     "output_type": "stream",
     "text": [
      "Data was splited to 3 clusters\n",
      "Cluster 1 finished\n",
      "Cluster 2 finished\n",
      "Cluster 3 finished\n"
     ]
    }
   ],
   "source": [
    "model.process(cluster_size)"
   ]
  },
  {
   "cell_type": "code",
   "execution_count": 14,
   "metadata": {},
   "outputs": [
    {
     "name": "stdout",
     "output_type": "stream",
     "text": [
      "--------------------------------------------------\n",
      "client_payload           0.1348\n",
      "client_bulksize_avg      0.1119\n",
      "is_tcp                   0.0980\n",
      "server_packetsize_dev    0.0943\n",
      "client_packet0           0.0718\n",
      "server_packet0           0.0447\n",
      "bulk0                    0.0442\n",
      "client_packets           0.0428\n",
      "server_packets           0.0399\n",
      "server_bulksize_avg      0.0388\n",
      "client_packets_per_bulk  0.0377\n",
      "client_bytes             0.0377\n",
      "bulk1                    0.0320\n",
      "server_bulks             0.0269\n",
      "client_bulksize_dev      0.0228\n",
      "server_bulksize_dev      0.0225\n",
      "client_bulks             0.0173\n",
      "server_bytes             0.0139\n",
      "bulk3                    0.0126\n",
      "bulk2                    0.0117\n",
      "server_packetsize_avg    0.0107\n",
      "byte_ratio               0.0079\n",
      "server_packet1           0.0069\n",
      "server_payload           0.0042\n",
      "client_packet1           0.0040\n",
      "client_packetsize_avg    0.0033\n",
      "client_packetsize_dev    0.0031\n",
      "server_packets_per_bulk  0.0021\n",
      "payload_ratio            0.0012\n",
      "packet_ratio             0.0005\n",
      "client_effeciency        0.0000\n",
      "server_efficiency        0.0000\n",
      "              precision    recall  f1-score   support\n",
      "\n",
      "  BitTorrent       1.00      0.97      0.98        93\n",
      "         DNS       1.00      1.00      1.00      6507\n",
      "        HTTP       1.00      1.00      1.00      2625\n",
      "        Quic       1.00      1.00      1.00       111\n",
      "         SSL       1.00      1.00      1.00       858\n",
      "       Skype       0.99      0.99      0.99       282\n",
      "\n",
      "    accuracy                           1.00     10476\n",
      "   macro avg       1.00      0.99      0.99     10476\n",
      "weighted avg       1.00      1.00      1.00     10476\n",
      "\n",
      "           BitTorrent   DNS  HTTP Quic  SSL Skype\n",
      "BitTorrent         90     0     2    0    0     1\n",
      "DNS                 0  6505     0    0    0     2\n",
      "HTTP                0     0  2624    0    1     0\n",
      "Quic                0     0     0  111    0     0\n",
      "SSL                 0     0     2    0  856     0\n",
      "Skype               0     0     2    0    1   279\n",
      "--------------------------------------------------\n",
      "--------------------------------------------------\n",
      "client_payload           0.1348\n",
      "client_bulksize_avg      0.1119\n",
      "is_tcp                   0.0980\n",
      "server_packetsize_dev    0.0943\n",
      "client_packet0           0.0718\n",
      "server_packet0           0.0447\n",
      "bulk0                    0.0442\n",
      "client_packets           0.0428\n",
      "server_packets           0.0399\n",
      "server_bulksize_avg      0.0388\n",
      "client_packets_per_bulk  0.0377\n",
      "client_bytes             0.0377\n",
      "bulk1                    0.0320\n",
      "server_bulks             0.0269\n",
      "client_bulksize_dev      0.0228\n",
      "server_bulksize_dev      0.0225\n",
      "client_bulks             0.0173\n",
      "server_bytes             0.0139\n",
      "bulk3                    0.0126\n",
      "bulk2                    0.0117\n",
      "server_packetsize_avg    0.0107\n",
      "byte_ratio               0.0079\n",
      "server_packet1           0.0069\n",
      "server_payload           0.0042\n",
      "client_packet1           0.0040\n",
      "client_packetsize_avg    0.0033\n",
      "client_packetsize_dev    0.0031\n",
      "server_packets_per_bulk  0.0021\n",
      "payload_ratio            0.0012\n",
      "packet_ratio             0.0005\n",
      "client_effeciency        0.0000\n",
      "server_efficiency        0.0000\n",
      "              precision    recall  f1-score   support\n",
      "\n",
      "  BitTorrent       0.97      0.99      0.98        93\n",
      "         DNS       1.00      1.00      1.00      6507\n",
      "        HTTP       1.00      1.00      1.00      2625\n",
      "        Quic       1.00      0.94      0.97       111\n",
      "         SSL       1.00      1.00      1.00       858\n",
      "       Skype       0.97      0.98      0.97       282\n",
      "\n",
      "    accuracy                           1.00     10476\n",
      "   macro avg       0.99      0.98      0.99     10476\n",
      "weighted avg       1.00      1.00      1.00     10476\n",
      "\n",
      "           BitTorrent   DNS  HTTP Quic  SSL Skype\n",
      "BitTorrent         92     0     0    0    1     0\n",
      "DNS                 0  6505     0    0    0     2\n",
      "HTTP                0     0  2623    0    2     0\n",
      "Quic                0     0     0  104    0     7\n",
      "SSL                 1     0     3    0  854     0\n",
      "Skype               2     2     2    0    0   276\n",
      "--------------------------------------------------\n",
      "--------------------------------------------------\n",
      "client_payload           0.1348\n",
      "client_bulksize_avg      0.1119\n",
      "is_tcp                   0.0980\n",
      "server_packetsize_dev    0.0943\n",
      "client_packet0           0.0718\n",
      "server_packet0           0.0447\n",
      "bulk0                    0.0442\n",
      "client_packets           0.0428\n",
      "server_packets           0.0399\n",
      "server_bulksize_avg      0.0388\n",
      "client_packets_per_bulk  0.0377\n",
      "client_bytes             0.0377\n",
      "bulk1                    0.0320\n",
      "server_bulks             0.0269\n",
      "client_bulksize_dev      0.0228\n",
      "server_bulksize_dev      0.0225\n",
      "client_bulks             0.0173\n",
      "server_bytes             0.0139\n",
      "bulk3                    0.0126\n",
      "bulk2                    0.0117\n",
      "server_packetsize_avg    0.0107\n",
      "byte_ratio               0.0079\n",
      "server_packet1           0.0069\n",
      "server_payload           0.0042\n",
      "client_packet1           0.0040\n",
      "client_packetsize_avg    0.0033\n",
      "client_packetsize_dev    0.0031\n",
      "server_packets_per_bulk  0.0021\n",
      "payload_ratio            0.0012\n",
      "packet_ratio             0.0005\n",
      "client_effeciency        0.0000\n",
      "server_efficiency        0.0000\n",
      "              precision    recall  f1-score   support\n",
      "\n",
      "  BitTorrent       0.94      0.99      0.96        93\n",
      "         DNS       1.00      1.00      1.00      6507\n",
      "        HTTP       1.00      1.00      1.00      2625\n",
      "        Quic       0.97      1.00      0.99       111\n",
      "         SSL       1.00      1.00      1.00       858\n",
      "       Skype       0.97      0.97      0.97       282\n",
      "\n",
      "    accuracy                           1.00     10476\n",
      "   macro avg       0.98      0.99      0.99     10476\n",
      "weighted avg       1.00      1.00      1.00     10476\n",
      "\n",
      "           BitTorrent   DNS  HTTP Quic  SSL Skype\n",
      "BitTorrent         92     0     0    0    0     1\n",
      "DNS                 0  6499     0    0    0     8\n",
      "HTTP                3     0  2619    0    3     0\n",
      "Quic                0     0     0  111    0     0\n",
      "SSL                 1     0     1    0  856     0\n",
      "Skype               2     2     2    3    0   273\n",
      "--------------------------------------------------\n"
     ]
    }
   ],
   "source": [
    " for entry in model.results.values():\n",
    "        Visualize(entry['model'], entry['data'][0], entry['data'][1], entry['data'][2]).view_report()"
   ]
  },
  {
   "cell_type": "code",
   "execution_count": null,
   "metadata": {},
   "outputs": [],
   "source": []
  }
 ],
 "metadata": {
  "kernelspec": {
   "display_name": "Python 3",
   "language": "python",
   "name": "python3"
  },
  "language_info": {
   "codemirror_mode": {
    "name": "ipython",
    "version": 3
   },
   "file_extension": ".py",
   "mimetype": "text/x-python",
   "name": "python",
   "nbconvert_exporter": "python",
   "pygments_lexer": "ipython3",
   "version": "3.7.4"
  }
 },
 "nbformat": 4,
 "nbformat_minor": 2
}
